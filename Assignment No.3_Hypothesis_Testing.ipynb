{
 "cells": [
  {
   "cell_type": "code",
   "execution_count": 1,
   "id": "db17b4bb",
   "metadata": {},
   "outputs": [],
   "source": [
    "import numpy as np\n",
    "import pandas as pd\n",
    "import scipy\n",
    "import scipy.stats as stats\n",
    "from scipy.stats import chi2_contingency"
   ]
  },
  {
   "cell_type": "markdown",
   "id": "af67d6ad",
   "metadata": {},
   "source": [
    "Q. 1) A F&B manager wants to determine whether there is any significant difference in the diameter of the cutlet between two units. A randomly selected sample of cutlets was collected from both units and measured? Analyze the data and draw inferences at 5% significance level. Please state the assumptions and tests that you carried out to check validity of the assumptions."
   ]
  },
  {
   "cell_type": "code",
   "execution_count": 2,
   "id": "a6a0a71e",
   "metadata": {},
   "outputs": [
    {
     "name": "stdout",
     "output_type": "stream",
     "text": [
      "   Unit A  Unit B\n",
      "0  6.8090  6.7703\n",
      "1  6.4376  7.5093\n",
      "2  6.9157  6.7300\n",
      "3  7.3012  6.7878\n",
      "4  7.4488  7.1522\n"
     ]
    },
    {
     "data": {
      "text/plain": [
       "Ttest_indResult(statistic=0.7228688704678063, pvalue=0.4722394724599501)"
      ]
     },
     "execution_count": 2,
     "metadata": {},
     "output_type": "execute_result"
    }
   ],
   "source": [
    "df=pd.read_csv(\"C:\\\\Users\\\\LENOVO\\\\Downloads\\\\Cutlets.csv\")\n",
    "print(df.head())\n",
    "#H0 : Diameter Of Cutlet Between Two Units are Different\n",
    "#Ha : Diameter Of Cutlet Between Two Units Are Similar\n",
    "\n",
    "unit_a=df.iloc[:,0]\n",
    "#print(unit_a)\n",
    "unit_b=df.iloc[:,1]\n",
    "#print(unit_b)\n",
    "\n",
    "#2-sample 2-tail ttest, Syntax:  stats.ttest_ind(array1,array2)  # ind=independent samples\n",
    "#p_value=stats.ttest_ind(unit_a,unit_b)\n",
    "stats.ttest_ind(unit_a,unit_b)\n",
    "\n",
    "# Here Value Of P is: 0.47 >0.05\n",
    "# Hence We accept The Null Hypothesis, and we Conclude that their is a significant difference in\n",
    "#the diameter of the cutlet between Two Units."
   ]
  },
  {
   "cell_type": "code",
   "execution_count": 4,
   "id": "70aa789d",
   "metadata": {},
   "outputs": [
    {
     "name": "stdout",
     "output_type": "stream",
     "text": [
      "Index(['Unit A', 'Unit B'], dtype='object')\n",
      "Ttest_indResult(statistic=0.7228688704678063, pvalue=0.4722394724599501)\n"
     ]
    }
   ],
   "source": [
    "import pandas as pd\n",
    "import scipy.stats as stats\n",
    "data = pd.read_csv(\"C:\\\\Users\\\\LENOVO\\\\Downloads\\\\Cutlets.csv\")\n",
    "print(data.columns)\n",
    "print(stats.ttest_ind(data['Unit A'], data[\"Unit B\"]))"
   ]
  },
  {
   "cell_type": "markdown",
   "id": "ce101cd8",
   "metadata": {},
   "source": [
    "Q. 2) A hospital wants to determine whether there is any difference in the average Turn Around Time (TAT) of reports of the laboratories on their preferred list. They collected a random sample and recorded TAT for reports of 4 laboratories. TAT is defined as sample collected to report dispatch.\n",
    "\n",
    "Analyze the data and determine whether there is any difference in average TAT among the different laboratories at 5% significance level"
   ]
  },
  {
   "cell_type": "code",
   "execution_count": 5,
   "id": "58900412",
   "metadata": {},
   "outputs": [
    {
     "name": "stdout",
     "output_type": "stream",
     "text": [
      "   Laboratory 1  Laboratory 2  Laboratory 3  Laboratory 4\n",
      "0        185.35        165.53        176.70        166.13\n",
      "1        170.49        185.91        198.45        160.79\n",
      "2        192.77        194.92        201.23        185.18\n",
      "3        177.33        183.00        199.61        176.42\n",
      "4        193.41        169.57        204.63        152.60\n",
      "F_onewayResult(statistic=118.70421654401437, pvalue=2.1156708949992414e-57)\n"
     ]
    }
   ],
   "source": [
    "df=pd.read_csv(\"C:\\\\Users\\\\LENOVO\\\\Downloads\\\\LabTAT.csv\")\n",
    "print(df.head())\n",
    "# H0 = The average TAT of reports are different\n",
    "# H1 = The average TAT of reports are same\n",
    "lab_1= df.iloc[:,0]\n",
    "lab_2= df.iloc[:,1]\n",
    "lab_3= df.iloc[:,2]\n",
    "lab_4= df.iloc[:,3]\n",
    "print(stats.f_oneway(lab_1,lab_2,lab_3,lab_4))\n",
    "\n",
    "#Here pvalue is: 2.11> 0.05\n",
    "#Hence we accept all Null Hypothesis ,and conclude their is a difference in the around time of reports"
   ]
  },
  {
   "cell_type": "code",
   "execution_count": 6,
   "id": "fe5b7edb",
   "metadata": {},
   "outputs": [
    {
     "name": "stdout",
     "output_type": "stream",
     "text": [
      "F_onewayResult(statistic=118.70421654401437, pvalue=2.1156708949992414e-57)\n"
     ]
    }
   ],
   "source": [
    "import pandas as pd\n",
    "import scipy.stats as stats\n",
    "df1 = pd.read_csv(\"C:\\\\Users\\\\LENOVO\\\\Downloads\\\\LabTAT.csv\")\n",
    "print(stats.f_oneway(df1['Laboratory 1'],df1['Laboratory 2'],df1['Laboratory 3'],df1['Laboratory 4']))"
   ]
  },
  {
   "cell_type": "markdown",
   "id": "2aac6d5c",
   "metadata": {},
   "source": [
    "\n",
    "Q. 3) Sales of products in four different regions is tabulated for males and females. Find if male-female buyer rations are similar across regions"
   ]
  },
  {
   "cell_type": "code",
   "execution_count": 8,
   "id": "b7f945a0",
   "metadata": {},
   "outputs": [
    {
     "name": "stdout",
     "output_type": "stream",
     "text": [
      "  Observed Values  East  West  North  South\n",
      "0           Males    50   142    131     70\n",
      "1         Females   435  1523   1356    750\n",
      "Ttest_indResult(statistic=-3.5844638979607404, pvalue=0.011580726207478622)\n"
     ]
    }
   ],
   "source": [
    "df=pd.read_csv(\"C:\\\\Users\\\\LENOVO\\\\Downloads\\\\BuyerRatio (1).csv\")\n",
    "print(df.head())\n",
    "#H0 = All Proportions are equal\n",
    "#Ha = Not all Proportions are equal\n",
    "male = df.iloc[0,1:]\n",
    "female = df.iloc[1,1:]\n",
    "#print(male)\n",
    "#print(female)\n",
    "print(stats.ttest_ind(male,female))\n",
    "#Here p value= 0.01<0.05,Hence we reject Null Hypothesis Testing and say, Not all proportions are equal"
   ]
  },
  {
   "cell_type": "markdown",
   "id": "d51b951f",
   "metadata": {},
   "source": [
    "Q. 4) TeleCall uses 4 centers around the globe to process customer order forms. They audit a certain % of the customer order forms. Any error in order form renders it defective and has to be reworked before processing. The manager wants to check whether the defective % varies by centre. Please analyze the data at 5% significance level and help the manager draw appropriate inferences\n",
    "\n",
    "Minitab File: CustomerOrderForm.mtw"
   ]
  },
  {
   "cell_type": "code",
   "execution_count": 9,
   "id": "476589e7",
   "metadata": {},
   "outputs": [
    {
     "name": "stdout",
     "output_type": "stream",
     "text": [
      "['Error Free' 'Defective']\n",
      "['Error Free' 'Defective']\n",
      "['Defective' 'Error Free']\n",
      "['Error Free' 'Defective']\n",
      "Error Free    271\n",
      "Defective      29\n",
      "Name: Phillippines, dtype: int64\n",
      "Error Free    267\n",
      "Defective      33\n",
      "Name: Indonesia, dtype: int64\n",
      "Error Free    269\n",
      "Defective      31\n",
      "Name: Malta, dtype: int64\n",
      "Error Free    280\n",
      "Defective      20\n",
      "Name: India, dtype: int64\n",
      "(0.0, 1.0, 0, array([[271.],\n",
      "       [267.],\n",
      "       [269.],\n",
      "       [280.]]))\n"
     ]
    }
   ],
   "source": [
    "df= pd.read_csv(\"C:\\\\Users\\\\LENOVO\\\\Downloads\\\\Costomer+OrderForm.csv\")\n",
    "#print(df.head())\n",
    "# H0 :  Independence of categorical variables (customer order forms defective % does not varies by centre) \n",
    "# Ha : Dependence of categorical variables (customer order forms defective % varies by centre)\n",
    "\n",
    "print(df[\"Phillippines\"].unique())\n",
    "print(df[\"Indonesia\"].unique())\n",
    "print(df[\"Malta\"].unique())\n",
    "print(df[\"India\"].unique())\n",
    "\n",
    "print(df[\"Phillippines\"].value_counts())\n",
    "print(df[\"Indonesia\"].value_counts())\n",
    "print(df[\"Malta\"].value_counts())\n",
    "print(df[\"India\"].value_counts())\n",
    "\n",
    "data= pd.DataFrame([271,267,269,280],[29,33,31,20])\n",
    "data\n",
    "print(chi2_contingency(data))\n",
    "\n",
    "  # Output  is:  (Chi2 stats value, p_value, df, expected obsvations)\n",
    "\n",
    "#Inference: As (p_value = 0.2771) > (α = 0.05); Accept Null Hypothesis i.e. Independence of categorical variables Thus, customer order forms defective % does not varies by centre.\n",
    "# Variables are independent, there is a no relationship between two-categorical variables, knowing the value of one-variable does not help to predict value of other variable."
   ]
  },
  {
   "cell_type": "code",
   "execution_count": null,
   "id": "7854156c",
   "metadata": {},
   "outputs": [],
   "source": []
  }
 ],
 "metadata": {
  "kernelspec": {
   "display_name": "Python 3",
   "language": "python",
   "name": "python3"
  },
  "language_info": {
   "codemirror_mode": {
    "name": "ipython",
    "version": 3
   },
   "file_extension": ".py",
   "mimetype": "text/x-python",
   "name": "python",
   "nbconvert_exporter": "python",
   "pygments_lexer": "ipython3",
   "version": "3.9.12"
  }
 },
 "nbformat": 4,
 "nbformat_minor": 5
}
